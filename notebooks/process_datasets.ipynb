{
 "cells": [
  {
   "cell_type": "code",
   "execution_count": null,
   "metadata": {},
   "outputs": [],
   "source": [
    "import os\n",
    "import pathlib\n",
    "from typing import Any\n",
    "\n",
    "import numpy as np\n",
    "import pandas as pd\n",
    "import torch\n",
    "from torch.utils.data import Dataset\n",
    "from torchvision.io import read_image"
   ]
  },
  {
   "cell_type": "code",
   "execution_count": null,
   "metadata": {},
   "outputs": [],
   "source": [
    "datasets_dir = pathlib.Path(\"../datasets\")"
   ]
  },
  {
   "cell_type": "code",
   "execution_count": null,
   "metadata": {},
   "outputs": [],
   "source": [
    "def read_annotations(path: pathlib.Path) -> tuple[list[str], list[int]]:\n",
    "    \"\"\"Reads dataset annotations from a CSV file.\n",
    "\n",
    "    Args:\n",
    "        path (pathlib.Path): Path to the CSV file.\n",
    "\n",
    "    Returns:\n",
    "        tuple[list[str], list[int]]: A tuple containing the labels and bounding boxes.\n",
    "    \"\"\"\n",
    "    df = pd.read_csv(path, header=0)\n",
    "    labels: list[str] = df[\"class\"].tolist()\n",
    "    boxes: list[int] = df[[\"xmin\", \"ymin\", \"xmax\", \"ymax\"]].values.tolist()\n",
    "    return labels, boxes"
   ]
  },
  {
   "cell_type": "code",
   "execution_count": null,
   "metadata": {},
   "outputs": [],
   "source": [
    "for dataset_num in range(1, 6):\n",
    "    dataset_dir = datasets_dir / f\"dataset_{dataset_num:02}\"\n",
    "    annotations_csv = dataset_dir / \"annotations.csv\"\n",
    "    annotations_pt = dataset_dir / \"annotations.pt\"\n",
    "\n",
    "    labels, boxes = read_annotations(annotations_csv)\n",
    "\n",
    "    targets = {\n",
    "        \"labels\": labels,\n",
    "        \"boxes\": boxes\n",
    "    }\n",
    "\n",
    "    torch.save(targets, annotations_pt)\n",
    "    data = torch.load(annotations_pt)\n",
    "    assert targets == data, f\"Targets and loaded data are not equal for dataset {dataset_num:02}.\""
   ]
  },
  {
   "cell_type": "code",
   "execution_count": null,
   "metadata": {},
   "outputs": [],
   "source": [
    "class OrbTrackingDataset(Dataset):\n",
    "    def __init__(self, annotations_file, img_dir, transform=None, target_transform=None) -> None:\n",
    "        self.img_labels = pd.read_csv(annotations_file)\n",
    "        self.img_dir = img_dir\n",
    "        self.transform = transform\n",
    "        self.target_transform = target_transform\n",
    "\n",
    "    def __len__(self) -> int:\n",
    "        return len(self.img_labels)\n",
    "\n",
    "    def __getitem__(self, idx) -> Any:\n",
    "        img_path = os.path.join(\n",
    "            self.img_dir, str(self.img_labels.iloc[idx, 0])\n",
    "        )\n",
    "        image = read_image(img_path)\n",
    "        label = self.img_labels.iloc[idx, 1]\n",
    "        if self.transform:\n",
    "            image = self.transform(image)\n",
    "        if self.target_transform:\n",
    "            label = self.target_transform(label)\n",
    "        return image, label"
   ]
  }
 ],
 "metadata": {
  "kernelspec": {
   "display_name": "levi",
   "language": "python",
   "name": "python3"
  },
  "language_info": {
   "codemirror_mode": {
    "name": "ipython",
    "version": 3
   },
   "file_extension": ".py",
   "mimetype": "text/x-python",
   "name": "python",
   "nbconvert_exporter": "python",
   "pygments_lexer": "ipython3",
   "version": "3.11.3"
  },
  "orig_nbformat": 4
 },
 "nbformat": 4,
 "nbformat_minor": 2
}
