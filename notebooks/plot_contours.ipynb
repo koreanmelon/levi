{
 "cells": [
  {
   "cell_type": "code",
   "execution_count": null,
   "metadata": {},
   "outputs": [],
   "source": [
    "import cv2\n",
    "import matplotlib.pyplot as plt\n",
    "import numpy as np"
   ]
  },
  {
   "cell_type": "code",
   "execution_count": null,
   "metadata": {},
   "outputs": [],
   "source": [
    "plt.axis(\"equal\")\n",
    "for i in range(2):\n",
    "    print(f\"Plotting contours_{i}.txt\")\n",
    "    with open(f\"../contours_{i}.txt\", \"r\") as f:\n",
    "        lines = f.readlines()\n",
    "        lines = [line.strip().removeprefix(\"[\").removesuffix(\"]\")\n",
    "                 for line in lines]\n",
    "        lines = [line.split() for line in lines]\n",
    "        lines = [[j, int(x), -int(y)] for j, (x, y) in enumerate(lines)]\n",
    "        lines = np.array(lines)\n",
    "\n",
    "        contour = np.array([[line] for line in lines[:, 1:]])\n",
    "\n",
    "        M = cv2.moments(contour)\n",
    "\n",
    "        cX = int(M[\"m10\"] / M[\"m00\"])\n",
    "        cY = int(M[\"m01\"] / M[\"m00\"])\n",
    "        centroid = np.array([[cX, cY]])\n",
    "        diff = lines[:, 1:] - centroid\n",
    "        r_hat = np.linalg.norm(diff, axis=1)\n",
    "        r_hat_mean = np.mean(r_hat)\n",
    "\n",
    "        center, radius = cv2.minEnclosingCircle(contour)\n",
    "        print(f\"lines.shape: {lines[:, 1:].shape}\")\n",
    "        print(f\"centroid.shape: {centroid.shape}\")\n",
    "        rms_error = np.sqrt(np.mean(np.linalg.norm(diff, axis=1) ** 2))\n",
    "        print(f\"RMS error: {rms_error:.2f}\")\n",
    "\n",
    "        plt.scatter(lines[:, 1], lines[:, 2], color=\"blue\")\n",
    "        plt.plot(cX, cY, color=\"red\", marker=\"o\")\n",
    "\n",
    "        # Plot circle\n",
    "        circle = plt.plot(center[0], center[1], color=\"green\", marker=\"o\")\n",
    "        p = np.array([[r_hat_mean * np.cos(t), r_hat_mean * np.sin(t)]\n",
    "                     for t in np.linspace(0, 2 * np.pi, 100)])\n",
    "        plt.plot(p[:, 0] + cX, p[:, 1] + cY, color=\"green\")"
   ]
  },
  {
   "cell_type": "code",
   "execution_count": null,
   "metadata": {},
   "outputs": [],
   "source": []
  }
 ],
 "metadata": {
  "kernelspec": {
   "display_name": "levi",
   "language": "python",
   "name": "python3"
  },
  "language_info": {
   "codemirror_mode": {
    "name": "ipython",
    "version": 3
   },
   "file_extension": ".py",
   "mimetype": "text/x-python",
   "name": "python",
   "nbconvert_exporter": "python",
   "pygments_lexer": "ipython3",
   "version": "3.9.16"
  },
  "orig_nbformat": 4
 },
 "nbformat": 4,
 "nbformat_minor": 2
}
